{
 "cells": [
  {
   "cell_type": "code",
   "execution_count": 1,
   "id": "6f484973",
   "metadata": {
    "execution": {
     "iopub.execute_input": "2025-08-15T08:31:03.037884Z",
     "iopub.status.busy": "2025-08-15T08:31:03.037649Z",
     "iopub.status.idle": "2025-08-15T08:31:03.048656Z",
     "shell.execute_reply": "2025-08-15T08:31:03.048006Z"
    },
    "papermill": {
     "duration": 0.015296,
     "end_time": "2025-08-15T08:31:03.049657",
     "exception": false,
     "start_time": "2025-08-15T08:31:03.034361",
     "status": "completed"
    },
    "tags": []
   },
   "outputs": [
    {
     "name": "stdout",
     "output_type": "stream",
     "text": [
      "True\n"
     ]
    }
   ],
   "source": [
    "import os\n",
    "\n",
    "# Set dataset path\n",
    "data_dir = \"/kaggle/input/plantdisease/PlantVillage\"\n",
    "\n",
    "# Optional: check if the path exists\n",
    "print(os.path.exists(data_dir))  # Should print True\n"
   ]
  },
  {
   "cell_type": "code",
   "execution_count": 2,
   "id": "a1255cba",
   "metadata": {
    "execution": {
     "iopub.execute_input": "2025-08-15T08:31:03.054178Z",
     "iopub.status.busy": "2025-08-15T08:31:03.054009Z",
     "iopub.status.idle": "2025-08-15T08:31:15.630102Z",
     "shell.execute_reply": "2025-08-15T08:31:15.629528Z"
    },
    "papermill": {
     "duration": 12.579531,
     "end_time": "2025-08-15T08:31:15.631331",
     "exception": false,
     "start_time": "2025-08-15T08:31:03.051800",
     "status": "completed"
    },
    "tags": []
   },
   "outputs": [],
   "source": [
    "import torch\n",
    "from torch.utils.data import DataLoader, random_split\n",
    "from torchvision import datasets, transforms\n"
   ]
  },
  {
   "cell_type": "code",
   "execution_count": 3,
   "id": "98309d02",
   "metadata": {
    "execution": {
     "iopub.execute_input": "2025-08-15T08:31:15.636171Z",
     "iopub.status.busy": "2025-08-15T08:31:15.635877Z",
     "iopub.status.idle": "2025-08-15T08:31:15.639830Z",
     "shell.execute_reply": "2025-08-15T08:31:15.639148Z"
    },
    "papermill": {
     "duration": 0.007392,
     "end_time": "2025-08-15T08:31:15.640809",
     "exception": false,
     "start_time": "2025-08-15T08:31:15.633417",
     "status": "completed"
    },
    "tags": []
   },
   "outputs": [],
   "source": [
    "transform = transforms.Compose([\n",
    "    transforms.Resize((224, 224)),\n",
    "    transforms.ToTensor(),#tensor is like a multi-dimensional array (matrix) that PyTorch can do math on.\n",
    "    transforms.Normalize(mean=[0.485, 0.456, 0.406],\n",
    "                         std=[0.229, 0.224, 0.225])\n",
    "])\n"
   ]
  },
  {
   "cell_type": "code",
   "execution_count": 4,
   "id": "1d51dc49",
   "metadata": {
    "execution": {
     "iopub.execute_input": "2025-08-15T08:31:15.645084Z",
     "iopub.status.busy": "2025-08-15T08:31:15.644879Z",
     "iopub.status.idle": "2025-08-15T08:31:41.322803Z",
     "shell.execute_reply": "2025-08-15T08:31:41.322185Z"
    },
    "papermill": {
     "duration": 25.682204,
     "end_time": "2025-08-15T08:31:41.324823",
     "exception": false,
     "start_time": "2025-08-15T08:31:15.642619",
     "status": "completed"
    },
    "tags": []
   },
   "outputs": [],
   "source": [
    "dataset = datasets.ImageFolder(root=data_dir, transform=transform)\n",
    "\n",
    "train_size = int(0.8 * len(dataset))\n",
    "test_size = len(dataset) - train_size\n",
    "train_dataset, test_dataset = random_split(dataset, [train_size, test_size])\n",
    "\n",
    "train_loader = DataLoader(train_dataset, batch_size=32, shuffle=True)\n",
    "test_loader = DataLoader(test_dataset, batch_size=32, shuffle=False)\n"
   ]
  },
  {
   "cell_type": "code",
   "execution_count": 5,
   "id": "cfc4f77c",
   "metadata": {
    "execution": {
     "iopub.execute_input": "2025-08-15T08:31:41.329998Z",
     "iopub.status.busy": "2025-08-15T08:31:41.329758Z",
     "iopub.status.idle": "2025-08-15T08:31:41.335642Z",
     "shell.execute_reply": "2025-08-15T08:31:41.335093Z"
    },
    "papermill": {
     "duration": 0.009512,
     "end_time": "2025-08-15T08:31:41.336651",
     "exception": false,
     "start_time": "2025-08-15T08:31:41.327139",
     "status": "completed"
    },
    "tags": []
   },
   "outputs": [],
   "source": [
    "import torch.nn as nn\n",
    "import torch.nn.functional as F\n",
    "\n",
    "# Define a simple CNN\n",
    "class SimpleCNN(nn.Module):\n",
    "    def __init__(self, num_classes):\n",
    "        super(SimpleCNN, self).__init__()\n",
    "        # 1st convolutional layer\n",
    "        self.conv1 = nn.Conv2d(in_channels=3, out_channels=16, kernel_size=3, padding=1)\n",
    "        self.pool = nn.MaxPool2d(2, 2)  # Max pooling\n",
    "        # 2nd convolutional layer\n",
    "        self.conv2 = nn.Conv2d(16, 32, 3, padding=1)\n",
    "        # Fully connected layers\n",
    "        self.fc1 = nn.Linear(32 * 56 * 56, 128)  # 224->112 after pool->56\n",
    "        self.fc2 = nn.Linear(128, num_classes)\n",
    "\n",
    "    def forward(self, x):#self allows you to access all the layers and attributes\n",
    "        x = self.pool(F.relu(self.conv1(x)))  # Conv1 -> ReLU -> Pool\n",
    "        x = self.pool(F.relu(self.conv2(x)))  # Conv2 -> ReLU -> Pool\n",
    "        x = x.view(-1, 32 * 56 * 56)          # Flatten\n",
    "        x = F.relu(self.fc1(x))               # FC1 -> ReLU\n",
    "        x = self.fc2(x)                       # FC2 -> output\n",
    "        return x\n"
   ]
  },
  {
   "cell_type": "code",
   "execution_count": 6,
   "id": "d7fb2036",
   "metadata": {
    "execution": {
     "iopub.execute_input": "2025-08-15T08:31:41.341120Z",
     "iopub.status.busy": "2025-08-15T08:31:41.340755Z",
     "iopub.status.idle": "2025-08-15T08:31:41.456857Z",
     "shell.execute_reply": "2025-08-15T08:31:41.455977Z"
    },
    "papermill": {
     "duration": 0.119503,
     "end_time": "2025-08-15T08:31:41.458006",
     "exception": false,
     "start_time": "2025-08-15T08:31:41.338503",
     "status": "completed"
    },
    "tags": []
   },
   "outputs": [
    {
     "name": "stdout",
     "output_type": "stream",
     "text": [
      "SimpleCNN(\n",
      "  (conv1): Conv2d(3, 16, kernel_size=(3, 3), stride=(1, 1), padding=(1, 1))\n",
      "  (pool): MaxPool2d(kernel_size=2, stride=2, padding=0, dilation=1, ceil_mode=False)\n",
      "  (conv2): Conv2d(16, 32, kernel_size=(3, 3), stride=(1, 1), padding=(1, 1))\n",
      "  (fc1): Linear(in_features=100352, out_features=128, bias=True)\n",
      "  (fc2): Linear(in_features=128, out_features=15, bias=True)\n",
      ")\n"
     ]
    }
   ],
   "source": [
    "num_classes = len(dataset.classes)  # Number of disease categories\n",
    "model = SimpleCNN(num_classes)\n",
    "print(model)\n"
   ]
  },
  {
   "cell_type": "code",
   "execution_count": 7,
   "id": "10ce82d5",
   "metadata": {
    "execution": {
     "iopub.execute_input": "2025-08-15T08:31:41.462782Z",
     "iopub.status.busy": "2025-08-15T08:31:41.462591Z",
     "iopub.status.idle": "2025-08-15T08:31:41.769480Z",
     "shell.execute_reply": "2025-08-15T08:31:41.768904Z"
    },
    "papermill": {
     "duration": 0.31077,
     "end_time": "2025-08-15T08:31:41.770828",
     "exception": false,
     "start_time": "2025-08-15T08:31:41.460058",
     "status": "completed"
    },
    "tags": []
   },
   "outputs": [],
   "source": [
    "device = torch.device(\"cuda\" if torch.cuda.is_available() else \"cpu\")\n",
    "model = model.to(device)\n",
    "\n",
    "import torch.optim as optim\n",
    "\n",
    "criterion = nn.CrossEntropyLoss()       # Loss function for classification\n",
    "optimizer = optim.Adam(model.parameters(), lr=0.001)  # Optimizer\n"
   ]
  },
  {
   "cell_type": "code",
   "execution_count": 8,
   "id": "326f50a1",
   "metadata": {
    "execution": {
     "iopub.execute_input": "2025-08-15T08:31:41.775683Z",
     "iopub.status.busy": "2025-08-15T08:31:41.775456Z",
     "iopub.status.idle": "2025-08-15T08:38:18.451223Z",
     "shell.execute_reply": "2025-08-15T08:38:18.450441Z"
    },
    "papermill": {
     "duration": 396.681396,
     "end_time": "2025-08-15T08:38:18.454311",
     "exception": false,
     "start_time": "2025-08-15T08:31:41.772915",
     "status": "completed"
    },
    "tags": []
   },
   "outputs": [
    {
     "name": "stdout",
     "output_type": "stream",
     "text": [
      "Epoch [1/5], Loss: 0.9241\n",
      "Epoch [2/5], Loss: 0.3290\n",
      "Epoch [3/5], Loss: 0.1346\n",
      "Epoch [4/5], Loss: 0.0801\n",
      "Epoch [5/5], Loss: 0.0653\n"
     ]
    }
   ],
   "source": [
    "num_epochs = 5  # You can increase later if needed\n",
    "\n",
    "for epoch in range(num_epochs):\n",
    "    running_loss = 0.0\n",
    "    model.train()  # Set model to training mode\n",
    "\n",
    "    for images, labels in train_loader:\n",
    "        images, labels = images.to(device), labels.to(device)\n",
    "\n",
    "        optimizer.zero_grad()           # Reset gradients\n",
    "        outputs = model(images)         # Forward pass\n",
    "        loss = criterion(outputs, labels)  # Calculate loss\n",
    "        loss.backward()                 # Backpropagation\n",
    "        optimizer.step()                # Update weights\n",
    "\n",
    "        running_loss += loss.item()\n",
    "\n",
    "    print(f\"Epoch [{epoch+1}/{num_epochs}], Loss: {running_loss/len(train_loader):.4f}\")\n",
    "\n"
   ]
  },
  {
   "cell_type": "code",
   "execution_count": 9,
   "id": "52881419",
   "metadata": {
    "execution": {
     "iopub.execute_input": "2025-08-15T08:38:18.459291Z",
     "iopub.status.busy": "2025-08-15T08:38:18.459046Z",
     "iopub.status.idle": "2025-08-15T08:38:49.513684Z",
     "shell.execute_reply": "2025-08-15T08:38:49.512981Z"
    },
    "papermill": {
     "duration": 31.060235,
     "end_time": "2025-08-15T08:38:49.516694",
     "exception": false,
     "start_time": "2025-08-15T08:38:18.456459",
     "status": "completed"
    },
    "tags": []
   },
   "outputs": [
    {
     "name": "stdout",
     "output_type": "stream",
     "text": [
      "Test Accuracy: 86.70%\n"
     ]
    }
   ],
   "source": [
    "model.eval()  # Set model to evaluation mode\n",
    "correct = 0\n",
    "total = 0\n",
    "\n",
    "with torch.no_grad():  # No gradient needed for evaluation\n",
    "    for images, labels in test_loader:\n",
    "        images, labels = images.to(device), labels.to(device)\n",
    "        outputs = model(images)\n",
    "        _, predicted = torch.max(outputs.data, 1)\n",
    "        total += labels.size(0)\n",
    "        correct += (predicted == labels).sum().item()\n",
    "\n",
    "print(f\"Test Accuracy: {100 * correct / total:.2f}%\") #rafi\n"
   ]
  }
 ],
 "metadata": {
  "kaggle": {
   "accelerator": "nvidiaTeslaT4",
   "dataSources": [
    {
     "datasetId": 70909,
     "sourceId": 150545,
     "sourceType": "datasetVersion"
    }
   ],
   "dockerImageVersionId": 31090,
   "isGpuEnabled": true,
   "isInternetEnabled": false,
   "language": "python",
   "sourceType": "notebook"
  },
  "kernelspec": {
   "display_name": "Python 3",
   "language": "python",
   "name": "python3"
  },
  "language_info": {
   "codemirror_mode": {
    "name": "ipython",
    "version": 3
   },
   "file_extension": ".py",
   "mimetype": "text/x-python",
   "name": "python",
   "nbconvert_exporter": "python",
   "pygments_lexer": "ipython3",
   "version": "3.11.13"
  },
  "papermill": {
   "default_parameters": {},
   "duration": 475.146946,
   "end_time": "2025-08-15T08:38:52.585427",
   "environment_variables": {},
   "exception": null,
   "input_path": "__notebook__.ipynb",
   "output_path": "__notebook__.ipynb",
   "parameters": {},
   "start_time": "2025-08-15T08:30:57.438481",
   "version": "2.6.0"
  }
 },
 "nbformat": 4,
 "nbformat_minor": 5
}
